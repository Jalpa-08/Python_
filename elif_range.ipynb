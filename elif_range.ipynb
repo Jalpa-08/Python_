{
 "cells": [
  {
   "cell_type": "code",
   "execution_count": 12,
   "id": "28a44d03",
   "metadata": {},
   "outputs": [
    {
     "name": "stdout",
     "output_type": "stream",
     "text": [
      "Enter Number:999\n",
      "Number is between 900 to 1000\n"
     ]
    }
   ],
   "source": [
    "Num=int(input(\"Enter Number:\"))\n",
    "if Num<=100:\n",
    "    print(\"Number is between 1 to 100\")\n",
    "elif Num<=200:\n",
    "    print(\"Number is between 100 to 200\")\n",
    "elif Num<=300:\n",
    "    print(\"Number is between 200 to 300\")   \n",
    "elif Num<=400:\n",
    "    print(\"Number is between 300 to 400\")\n",
    "elif Num<=500:\n",
    "    print(\"Number is between 400 to 500\")\n",
    "elif Num<=600:\n",
    "    print(\"Number is between 500 to 600\")\n",
    "elif Num<=700:\n",
    "    print(\"Number is between 600 to 700\")\n",
    "elif Num<=800:\n",
    "    print(\"Number is between 700 to 800\")  \n",
    "elif Num<=900:\n",
    "    print(\"Number is between 800 to 900\")    \n",
    "elif Num<=1000:\n",
    "    print(\"Number is between 900 to 1000\")\n",
    "else:\n",
    "    print(\"Out of range\")"
   ]
  },
  {
   "cell_type": "code",
   "execution_count": null,
   "id": "847d59dd",
   "metadata": {},
   "outputs": [],
   "source": []
  },
  {
   "cell_type": "code",
   "execution_count": null,
   "id": "d7de80c6",
   "metadata": {},
   "outputs": [],
   "source": []
  },
  {
   "cell_type": "code",
   "execution_count": null,
   "id": "7db6b1a6",
   "metadata": {},
   "outputs": [],
   "source": []
  },
  {
   "cell_type": "code",
   "execution_count": null,
   "id": "27c65413",
   "metadata": {},
   "outputs": [],
   "source": []
  },
  {
   "cell_type": "code",
   "execution_count": null,
   "id": "49a7d9c9",
   "metadata": {},
   "outputs": [],
   "source": []
  }
 ],
 "metadata": {
  "kernelspec": {
   "display_name": "Python 3 (ipykernel)",
   "language": "python",
   "name": "python3"
  },
  "language_info": {
   "codemirror_mode": {
    "name": "ipython",
    "version": 3
   },
   "file_extension": ".py",
   "mimetype": "text/x-python",
   "name": "python",
   "nbconvert_exporter": "python",
   "pygments_lexer": "ipython3",
   "version": "3.11.4"
  }
 },
 "nbformat": 4,
 "nbformat_minor": 5
}
