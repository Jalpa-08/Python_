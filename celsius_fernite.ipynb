{
 "cells": [
  {
   "cell_type": "code",
   "execution_count": 5,
   "id": "28a44d03",
   "metadata": {},
   "outputs": [
    {
     "name": "stdout",
     "output_type": "stream",
     "text": [
      "Enter the value in fahrenheit:56\n",
      "Celsius: 13.333333333333334\n"
     ]
    }
   ],
   "source": [
    "#Fahrenheit to Celsius \n",
    "F = float(input(\"Enter the value in fahrenheit:\"))\n",
    "c= (F-32)*5/9\n",
    "print(\"Celsius:\",c)"
   ]
  },
  {
   "cell_type": "code",
   "execution_count": 6,
   "id": "847d59dd",
   "metadata": {},
   "outputs": [
    {
     "name": "stdout",
     "output_type": "stream",
     "text": [
      "Enter the value in celsius:23\n",
      "Fahrenheit 73.4\n"
     ]
    }
   ],
   "source": [
    "#Celsius to Fahrenheit\n",
    "c = float(input(\"Enter the value in celsius:\"))\n",
    "F = c * (9/5) + 32\n",
    "print(\"Fahrenheit\",F)"
   ]
  },
  {
   "cell_type": "code",
   "execution_count": null,
   "id": "d7de80c6",
   "metadata": {},
   "outputs": [],
   "source": []
  },
  {
   "cell_type": "code",
   "execution_count": null,
   "id": "7db6b1a6",
   "metadata": {},
   "outputs": [],
   "source": []
  },
  {
   "cell_type": "code",
   "execution_count": null,
   "id": "27c65413",
   "metadata": {},
   "outputs": [],
   "source": []
  },
  {
   "cell_type": "code",
   "execution_count": null,
   "id": "49a7d9c9",
   "metadata": {},
   "outputs": [],
   "source": []
  }
 ],
 "metadata": {
  "kernelspec": {
   "display_name": "Python 3 (ipykernel)",
   "language": "python",
   "name": "python3"
  },
  "language_info": {
   "codemirror_mode": {
    "name": "ipython",
    "version": 3
   },
   "file_extension": ".py",
   "mimetype": "text/x-python",
   "name": "python",
   "nbconvert_exporter": "python",
   "pygments_lexer": "ipython3",
   "version": "3.11.4"
  }
 },
 "nbformat": 4,
 "nbformat_minor": 5
}
