{
 "cells": [
  {
   "cell_type": "code",
   "execution_count": null,
   "id": "2c1a69e2",
   "metadata": {},
   "outputs": [],
   "source": [
    "#number is divisible by 3 or not "
   ]
  },
  {
   "cell_type": "code",
   "execution_count": 11,
   "id": "c381d284",
   "metadata": {},
   "outputs": [
    {
     "name": "stdout",
     "output_type": "stream",
     "text": [
      "Enter number:5\n",
      "Not divisible by 3\n"
     ]
    }
   ],
   "source": [
    "num = int(input(\"Enter number:\"))\n",
    "if num % 3 == 0:\n",
    "    print(\"Divisible by 3\")\n",
    "else:\n",
    "    print(\"Not divisible by 3\")"
   ]
  },
  {
   "cell_type": "code",
   "execution_count": 16,
   "id": "e00a7f1c",
   "metadata": {},
   "outputs": [
    {
     "name": "stdout",
     "output_type": "stream",
     "text": [
      "Enter Number15\n",
      "Divisible by both\n"
     ]
    }
   ],
   "source": [
    "#number is divisible by 3 and also 5, only 3 ,only 5, 3 or 5\n",
    "num = int(input(\"Enter Number\"))\n",
    "if num % 3==0:\n",
    "    if num%5==0:\n",
    "        print(\"Divisible by both\")\n",
    "    else:\n",
    "        print(\"Divisible by 3\")\n",
    "else:\n",
    "    if num % 5==0:\n",
    "        print(\"Divisible by 5\")\n",
    "    else:\n",
    "        print(\"Not Divisible\")"
   ]
  },
  {
   "cell_type": "code",
   "execution_count": 17,
   "id": "10b5d3ea",
   "metadata": {},
   "outputs": [
    {
     "name": "stdout",
     "output_type": "stream",
     "text": [
      "Enter Number24\n",
      "EVEN number\n"
     ]
    }
   ],
   "source": [
    "#find num is even or odd\n",
    "num = int(input(\"Enter Number\"))\n",
    "if num % 2==0:\n",
    "    print(\"EVEN number\")\n",
    "else:\n",
    "    print(\"ODD number\")\n",
    "    "
   ]
  },
  {
   "cell_type": "code",
   "execution_count": 20,
   "id": "7435cf87",
   "metadata": {},
   "outputs": [
    {
     "name": "stdout",
     "output_type": "stream",
     "text": [
      "Enter String:Vacha\n",
      "Enter String:Abcd\n",
      "NOT SAME\n"
     ]
    }
   ],
   "source": [
    "# find 1st letter of the string is same or not\n",
    "a=str(input(\"Enter String:\"))\n",
    "b=str(input(\"Enter String:\"))\n",
    "if a[0]==b[0]:\n",
    "    print(\" 1st letter SAME\")\n",
    "else:\n",
    "    print(\"NOT SAME\")\n"
   ]
  },
  {
   "cell_type": "code",
   "execution_count": null,
   "id": "d5b77413",
   "metadata": {},
   "outputs": [],
   "source": []
  }
 ],
 "metadata": {
  "kernelspec": {
   "display_name": "Python 3 (ipykernel)",
   "language": "python",
   "name": "python3"
  },
  "language_info": {
   "codemirror_mode": {
    "name": "ipython",
    "version": 3
   },
   "file_extension": ".py",
   "mimetype": "text/x-python",
   "name": "python",
   "nbconvert_exporter": "python",
   "pygments_lexer": "ipython3",
   "version": "3.11.4"
  }
 },
 "nbformat": 4,
 "nbformat_minor": 5
}
