{
 "cells": [
  {
   "cell_type": "code",
   "execution_count": 1,
   "id": "00e7fd62",
   "metadata": {},
   "outputs": [
    {
     "name": "stdout",
     "output_type": "stream",
     "text": [
      "Enter Date:14\n",
      "Enter Month:October\n",
      "Enter Year2003\n",
      "Birth Date: October 14 , 2003\n",
      "Libra\n"
     ]
    }
   ],
   "source": [
    "#to diaplay astrological sign to given date of birth \n",
    "Date=int(input(\"Enter Date:\"))\n",
    "Month =input(\"Enter Month:\")\n",
    "Year=int(input(\"Enter Year\"))\n",
    "print(\"Birth Date:\",Month,Date,',',Year)\n",
    "if Month in ('March 21 to April 19'):\n",
    "    print(\"Aries\")\n",
    "elif Month in ('April 20 to May 20'):\n",
    "    print(\"Taurus\")\n",
    "elif Month in ('May 21 to June 20'):\n",
    "    print(\"Gemini\")\n",
    "elif Month in ('June 21 to july 22'):\n",
    "    print(\"Cancer\")    \n",
    "elif Month in ('July 23 to August 22'):\n",
    "    print(\"Leo\")\n",
    "elif Month in ('August 23 to September 22'):\n",
    "    print(\"Virgo\")\n",
    "elif Month in ('September 23 to October 22'):\n",
    "    print(\"Libra\")\n",
    "elif Month in ('October 23 to November 21'):\n",
    "    print(\"Scorpio\")    \n",
    "elif Month in ('November 22 to December 21'):\n",
    "    print(\"Sagittarius\")\n",
    "elif Month in ('December 22 to January 19'):\n",
    "    print(\"Capricorn\")\n",
    "elif Month in ('January 20 to Feb 18'):\n",
    "    print(\"Aquarius\") \n",
    "elif Month in ('Feb 19 to March 20'):\n",
    "    print(\"Pisces\")    \n",
    "else:\n",
    "    print(\"Not Valid\") "
   ]
  },
  {
   "cell_type": "code",
   "execution_count": null,
   "id": "29a5f911",
   "metadata": {},
   "outputs": [],
   "source": []
  },
  {
   "cell_type": "code",
   "execution_count": null,
   "id": "bf741fbd",
   "metadata": {},
   "outputs": [],
   "source": []
  },
  {
   "cell_type": "code",
   "execution_count": null,
   "id": "f413df5a",
   "metadata": {},
   "outputs": [],
   "source": []
  },
  {
   "cell_type": "code",
   "execution_count": null,
   "id": "ff5c4c11",
   "metadata": {},
   "outputs": [],
   "source": []
  },
  {
   "cell_type": "code",
   "execution_count": null,
   "id": "68bfc83c",
   "metadata": {},
   "outputs": [],
   "source": []
  }
 ],
 "metadata": {
  "kernelspec": {
   "display_name": "Python 3 (ipykernel)",
   "language": "python",
   "name": "python3"
  },
  "language_info": {
   "codemirror_mode": {
    "name": "ipython",
    "version": 3
   },
   "file_extension": ".py",
   "mimetype": "text/x-python",
   "name": "python",
   "nbconvert_exporter": "python",
   "pygments_lexer": "ipython3",
   "version": "3.11.4"
  }
 },
 "nbformat": 4,
 "nbformat_minor": 5
}
