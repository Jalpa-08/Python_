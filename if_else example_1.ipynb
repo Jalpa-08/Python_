{
 "cells": [
  {
   "cell_type": "code",
   "execution_count": 1,
   "id": "738838bf",
   "metadata": {},
   "outputs": [
    {
     "name": "stdout",
     "output_type": "stream",
     "text": [
      "Enter string:vacha\n",
      "Enter string:soni\n",
      "a is greater\n"
     ]
    }
   ],
   "source": [
    "#FIND THE GREATEST LENGTH OF THE STRING\n",
    "a = input(\"Enter string:\")\n",
    "b = input(\"Enter string:\")\n",
    "if len(a)>len(b):\n",
    "    print(\"a is greater\")\n",
    "else:\n",
    "    print(\"b is not greater\")"
   ]
  },
  {
   "cell_type": "code",
   "execution_count": 2,
   "id": "fc3e8bc9",
   "metadata": {},
   "outputs": [
    {
     "name": "stdout",
     "output_type": "stream",
     "text": [
      "Enter Number:1\n",
      "Enter Number:4\n",
      "num2 4\n"
     ]
    }
   ],
   "source": [
    "#FIND THE SMALLER NUMBER\n",
    "num1 = input(\"Enter Number:\")\n",
    "num2 = input(\"Enter Number:\")\n",
    "if num1<num2:\n",
    "    print(\"num2\",num2)\n",
    "else:    \n",
    "    print(\"num1\",num1)"
   ]
  },
  {
   "cell_type": "code",
   "execution_count": 7,
   "id": "88338231",
   "metadata": {},
   "outputs": [
    {
     "name": "stdout",
     "output_type": "stream",
     "text": [
      "Enter Number : -1\n",
      "Number is negetive: -1\n"
     ]
    }
   ],
   "source": [
    "#Find the number is positive or not\n",
    "n = int(input(\"Enter Number : \"))\n",
    "if n>0:\n",
    "    print(\"Number is positive:\",n)\n",
    "else:\n",
    "    print(\"Number is negetive:\",n)"
   ]
  },
  {
   "cell_type": "code",
   "execution_count": null,
   "id": "7daaafc4",
   "metadata": {},
   "outputs": [],
   "source": []
  },
  {
   "cell_type": "code",
   "execution_count": null,
   "id": "ac3c1286",
   "metadata": {},
   "outputs": [],
   "source": []
  }
 ],
 "metadata": {
  "kernelspec": {
   "display_name": "Python 3 (ipykernel)",
   "language": "python",
   "name": "python3"
  },
  "language_info": {
   "codemirror_mode": {
    "name": "ipython",
    "version": 3
   },
   "file_extension": ".py",
   "mimetype": "text/x-python",
   "name": "python",
   "nbconvert_exporter": "python",
   "pygments_lexer": "ipython3",
   "version": "3.11.4"
  }
 },
 "nbformat": 4,
 "nbformat_minor": 5
}
