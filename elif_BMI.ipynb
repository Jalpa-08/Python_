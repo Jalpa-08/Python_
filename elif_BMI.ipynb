{
 "cells": [
  {
   "cell_type": "code",
   "execution_count": 9,
   "id": "28a44d03",
   "metadata": {},
   "outputs": [
    {
     "name": "stdout",
     "output_type": "stream",
     "text": [
      "Enter Weight in kg:89\n",
      "Enter height in cm:2.4\n",
      "BMI: 15.45138888888889\n",
      "You are underweight\n"
     ]
    }
   ],
   "source": [
    "#BMI(weight (kg) / [height (cm)]2  (height/100)**2) )\n",
    "Weight = float(input(\"Enter Weight in kg:\"))\n",
    "height = float(input(\"Enter height in cm:\"))\n",
    "BMI = Weight/(height*height) \n",
    "print(\"BMI:\",BMI)\n",
    "if BMI < 18.5:\n",
    "    print(\"You are underweight\")\n",
    "elif BMI < 24.9:\n",
    "    print(\"You are healthy\")\n",
    "elif BMI <29.9:\n",
    "    print(\"You are an over weight\")\n",
    "else:\n",
    "    print(\"You are obese.\")\n"
   ]
  },
  {
   "cell_type": "code",
   "execution_count": null,
   "id": "847d59dd",
   "metadata": {},
   "outputs": [],
   "source": []
  },
  {
   "cell_type": "code",
   "execution_count": null,
   "id": "d7de80c6",
   "metadata": {},
   "outputs": [],
   "source": []
  },
  {
   "cell_type": "code",
   "execution_count": null,
   "id": "7db6b1a6",
   "metadata": {},
   "outputs": [],
   "source": []
  },
  {
   "cell_type": "code",
   "execution_count": null,
   "id": "27c65413",
   "metadata": {},
   "outputs": [],
   "source": []
  },
  {
   "cell_type": "code",
   "execution_count": null,
   "id": "49a7d9c9",
   "metadata": {},
   "outputs": [],
   "source": []
  }
 ],
 "metadata": {
  "kernelspec": {
   "display_name": "Python 3 (ipykernel)",
   "language": "python",
   "name": "python3"
  },
  "language_info": {
   "codemirror_mode": {
    "name": "ipython",
    "version": 3
   },
   "file_extension": ".py",
   "mimetype": "text/x-python",
   "name": "python",
   "nbconvert_exporter": "python",
   "pygments_lexer": "ipython3",
   "version": "3.11.4"
  }
 },
 "nbformat": 4,
 "nbformat_minor": 5
}
