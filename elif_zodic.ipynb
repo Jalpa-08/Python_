{
 "cells": [
  {
   "cell_type": "code",
   "execution_count": null,
   "id": "00e7fd62",
   "metadata": {},
   "outputs": [],
   "source": [
    "\n",
    "\n"
   ]
  },
  {
   "cell_type": "code",
   "execution_count": 4,
   "id": "29a5f911",
   "metadata": {},
   "outputs": [
    {
     "name": "stdout",
     "output_type": "stream",
     "text": [
      "Enter your birth Year:1921\n",
      "ROOSTER\n"
     ]
    }
   ],
   "source": [
    "\n",
    "#to diaplay sign of the chinese zodic for given year in which you where born\n",
    "Year = int(input(\"Enter your birth Year:\"))\n",
    "if Year % 12 ==0 :\n",
    "    print(\"MONKEY\")\n",
    "elif Year % 12 ==1 :\n",
    "    print(\"ROOSTER\")    \n",
    "elif Year % 12 == 2 :\n",
    "    print(\"DOG\")\n",
    "elif Year % 12 == 3 :\n",
    "    print(\"PIG\")\n",
    "elif Year % 12 == 4:\n",
    "    print(\"RAT\")\n",
    "elif Year % 12 == 5:\n",
    "    print(\"OX\")\n",
    "elif Year % 12 == 6:\n",
    "    print(\"TIGER\")\n",
    "elif Year % 12 == 7:\n",
    "    print(\"RABBIT\")\n",
    "elif Year % 12 == 8:\n",
    "    print(\"DRAGON\")\n",
    "elif Year % 12 == 9:\n",
    "    print(\"SNAKE\") \n",
    "elif Year % 12 == 10:\n",
    "    print(\"HORSE\")    \n",
    "elif Year % 12 ==11 :\n",
    "    print(\"SHEEP\") \n",
    "else:\n",
    "    print(\"Not Found\")"
   ]
  },
  {
   "cell_type": "code",
   "execution_count": null,
   "id": "bf741fbd",
   "metadata": {},
   "outputs": [],
   "source": []
  },
  {
   "cell_type": "code",
   "execution_count": null,
   "id": "f413df5a",
   "metadata": {},
   "outputs": [],
   "source": []
  },
  {
   "cell_type": "code",
   "execution_count": null,
   "id": "ff5c4c11",
   "metadata": {},
   "outputs": [],
   "source": []
  },
  {
   "cell_type": "code",
   "execution_count": null,
   "id": "68bfc83c",
   "metadata": {},
   "outputs": [],
   "source": []
  }
 ],
 "metadata": {
  "kernelspec": {
   "display_name": "Python 3 (ipykernel)",
   "language": "python",
   "name": "python3"
  },
  "language_info": {
   "codemirror_mode": {
    "name": "ipython",
    "version": 3
   },
   "file_extension": ".py",
   "mimetype": "text/x-python",
   "name": "python",
   "nbconvert_exporter": "python",
   "pygments_lexer": "ipython3",
   "version": "3.11.4"
  }
 },
 "nbformat": 4,
 "nbformat_minor": 5
}
