{
 "cells": [
  {
   "cell_type": "code",
   "execution_count": 4,
   "id": "28a44d03",
   "metadata": {},
   "outputs": [
    {
     "name": "stdout",
     "output_type": "stream",
     "text": [
      "Enter Mark of Data_Structure:67\n",
      "Enter Mark of Networks:45\n",
      "Enter Mark of Hacking:87\n",
      "Total Marks: 199\n",
      "Percentage: 66.33333333333333\n",
      "Third Class\n"
     ]
    }
   ],
   "source": [
    "#find the student class according to their marks (Here there are multiple condition that's why used elif)\n",
    "Data_Structure=int(input(\"Enter Mark of Data_Structure:\"))\n",
    "Networks=int(input(\"Enter Mark of Networks:\"))\n",
    "Hacking=int(input(\"Enter Mark of Hacking:\"))\n",
    "Total=Data_Structure+Networks+Hacking\n",
    "per=(Total/300)*100\n",
    "print(\"Total Marks:\",Total)\n",
    "print(\"Percentage:\",per)\n",
    "if per<50:\n",
    "    print(\"Fail\")\n",
    "elif per<70:\n",
    "    print(\"Third Class\")\n",
    "elif per< 80:\n",
    "    print(\"Second Class\")\n",
    "else:\n",
    "    print(\"Distinction\")"
   ]
  },
  {
   "cell_type": "code",
   "execution_count": null,
   "id": "847d59dd",
   "metadata": {},
   "outputs": [],
   "source": []
  },
  {
   "cell_type": "code",
   "execution_count": null,
   "id": "d7de80c6",
   "metadata": {},
   "outputs": [],
   "source": []
  },
  {
   "cell_type": "code",
   "execution_count": null,
   "id": "7db6b1a6",
   "metadata": {},
   "outputs": [],
   "source": []
  },
  {
   "cell_type": "code",
   "execution_count": null,
   "id": "27c65413",
   "metadata": {},
   "outputs": [],
   "source": []
  },
  {
   "cell_type": "code",
   "execution_count": null,
   "id": "49a7d9c9",
   "metadata": {},
   "outputs": [],
   "source": []
  }
 ],
 "metadata": {
  "kernelspec": {
   "display_name": "Python 3 (ipykernel)",
   "language": "python",
   "name": "python3"
  },
  "language_info": {
   "codemirror_mode": {
    "name": "ipython",
    "version": 3
   },
   "file_extension": ".py",
   "mimetype": "text/x-python",
   "name": "python",
   "nbconvert_exporter": "python",
   "pygments_lexer": "ipython3",
   "version": "3.11.4"
  }
 },
 "nbformat": 4,
 "nbformat_minor": 5
}
